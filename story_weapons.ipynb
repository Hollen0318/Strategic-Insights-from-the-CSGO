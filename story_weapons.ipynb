{
 "cells": [
  {
   "cell_type": "code",
   "execution_count": 1,
   "id": "e620f4fd-146f-4ce2-b0f0-24f2043f1bd1",
   "metadata": {
    "tags": []
   },
   "outputs": [],
   "source": [
    "import pandas as pd\n",
    "import numpy as np"
   ]
  },
  {
   "cell_type": "code",
   "execution_count": 2,
   "id": "7b1bc050-fa88-4e67-b63d-2272c0f9ab60",
   "metadata": {
    "tags": []
   },
   "outputs": [],
   "source": [
    "df = pd.read_csv('csgo_round_snapshots.csv')"
   ]
  },
  {
   "cell_type": "code",
   "execution_count": 3,
   "id": "ecf5cc17-6566-423b-9010-0bdcb9888ef4",
   "metadata": {
    "tags": []
   },
   "outputs": [],
   "source": [
    "csgo_prices = {\n",
    "    'ct_weapon_ak47': 0,  # Typically not available to CT side in standard play\n",
    "    't_weapon_ak47': 2700,\n",
    "    'ct_weapon_aug': 3300,\n",
    "    't_weapon_aug': 0,  # Typically not available to T side in standard play\n",
    "    'ct_weapon_awp': 4750,\n",
    "    't_weapon_awp': 4750,\n",
    "    'ct_weapon_bizon': 1400,\n",
    "    't_weapon_bizon': 1400,\n",
    "    'ct_weapon_cz75auto': 500,\n",
    "    't_weapon_cz75auto': 500,\n",
    "    'ct_weapon_elite': 0,  # Typically not available to CT side in standard play\n",
    "    't_weapon_elite': 400,\n",
    "    'ct_weapon_famas': 2050,\n",
    "    't_weapon_famas': 0,  # Typically not available to T side in standard play\n",
    "    'ct_weapon_g3sg1': 0,  # Typically not available to CT side in standard play\n",
    "    't_weapon_g3sg1': 5000,\n",
    "    'ct_weapon_galilar': 0,  # Typically not available to CT side in standard play\n",
    "    't_weapon_galilar': 2000,\n",
    "    'ct_weapon_glock': 0,  # Typically not available to CT side in standard play\n",
    "    't_weapon_glock': 0,# Typically its not available to buy because it's a starting pistol for T\n",
    "    'ct_weapon_m249': 5200,\n",
    "    't_weapon_m249': 5200,\n",
    "    'ct_weapon_m4a1s': 3100,\n",
    "    't_weapon_m4a1s': 0,  # Typically not available to T side in standard play\n",
    "    'ct_weapon_m4a4': 3100,\n",
    "    't_weapon_m4a4': 0,  # Typically not available to T side in standard play\n",
    "    'ct_weapon_mac10': 0,  # Typically not available to CT side in standard play\n",
    "    't_weapon_mac10': 1050,\n",
    "    'ct_weapon_mag7': 1300,\n",
    "    't_weapon_mag7': 0,  # Typically not available to T side in standard play\n",
    "    'ct_weapon_mp5sd': 1500,\n",
    "    't_weapon_mp5sd': 1500,\n",
    "    'ct_weapon_mp7': 1700,\n",
    "    't_weapon_mp7': 1700,\n",
    "    'ct_weapon_mp9': 1250,\n",
    "    't_weapon_mp9': 0,  # Typically not available to T side in standard play\n",
    "    'ct_weapon_negev': 1700,\n",
    "    't_weapon_negev': 1700,\n",
    "    'ct_weapon_nova': 1200,\n",
    "    't_weapon_nova': 1200,\n",
    "    'ct_weapon_p90': 2350,\n",
    "    't_weapon_p90': 2350,\n",
    "    'ct_weapon_r8revolver': 600,\n",
    "    't_weapon_r8revolver': 600,\n",
    "    'ct_weapon_sawedoff': 0,  # Typically not available to CT side in standard play\n",
    "    't_weapon_sawedoff': 1100,\n",
    "    'ct_weapon_scar20': 5000,\n",
    "    't_weapon_scar20': 0,  # Typically not available to T side in standard play\n",
    "    'ct_weapon_sg553': 0,  # Typically not available to CT side in standard play\n",
    "    't_weapon_sg553': 3000,\n",
    "    'ct_weapon_ssg08': 1700,\n",
    "    't_weapon_ssg08': 1700,\n",
    "    'ct_weapon_ump45': 1200,\n",
    "    't_weapon_ump45': 1200,\n",
    "    'ct_weapon_xm1014': 2000,\n",
    "    't_weapon_xm1014': 2000,\n",
    "    'ct_weapon_deagle': 700,\n",
    "    't_weapon_deagle': 700,\n",
    "    'ct_weapon_fiveseven': 500,\n",
    "    't_weapon_fiveseven': 0,  # Typically not available to T side in standard play\n",
    "    'ct_weapon_usps': 0,  # Typically not available to buy because it's a starting pistol for CT\n",
    "    't_weapon_usps': 0,  # Not available to T side\n",
    "    'ct_weapon_p250': 300,\n",
    "    't_weapon_p250': 300,\n",
    "    'ct_weapon_p2000': 0,  # Typically not available to buy because it's a starting pistol for CT\n",
    "    't_weapon_p2000': 0,  # Not available to T side\n",
    "    'ct_weapon_tec9': 0,\n",
    "    'ct_grenade_hegrenade': 300,\n",
    "    't_grenade_hegrenade': 300,\n",
    "    'ct_grenade_flashbang': 200,\n",
    "    't_grenade_flashbang': 200,\n",
    "    'ct_grenade_smokegrenade': 300,\n",
    "    't_grenade_smokegrenade': 300,\n",
    "    'ct_grenade_incendiarygrenade': 600,  # Incendiary Grenade\n",
    "    't_grenade_incendiarygrenade': 600,  # Technically, this would be a Molotov for T side, priced at 400\n",
    "    'ct_grenade_molotovgrenade': 400,  # Molotov, typically not available to CT side in standard play\n",
    "    't_grenade_molotovgrenade': 400,\n",
    "    'ct_grenade_decoygrenade': 50,\n",
    "    't_grenade_decoygrenade': 50\n",
    "} \n"
   ]
  },
  {
   "cell_type": "code",
   "execution_count": 4,
   "id": "487eea24-3ade-4b23-941b-9b3bf696316c",
   "metadata": {
    "tags": []
   },
   "outputs": [],
   "source": [
    "# Calculate total value for each team\n",
    "for team in ['ct_', 't_']:\n",
    "    item_columns = [col for col in df.columns if col.startswith(team)]\n",
    "    total_value_column = f'{team}total_value'\n",
    "\n",
    "    # Initialize the total value column to 0\n",
    "    df[total_value_column] = 0\n",
    "    for item in item_columns:\n",
    "        df[f'{item}_value'] = 0\n",
    "\n",
    "    # Iterate over each item column and add its total value to the total value column\n",
    "    for item in item_columns:\n",
    "        item_price = csgo_prices.get(item, 0)  # Get the price, default to 0 if not found\n",
    "        df[f'{item}_value'] += df[item] * item_price\n",
    "        df[total_value_column] += df[item] * item_price\n",
    "\n",
    "# This results in two new columns: 'ct_total_value' and 't_total_value' \n",
    "# which represent the total value of items for each team in each row"
   ]
  },
  {
   "cell_type": "code",
   "execution_count": 5,
   "id": "716a8bc3-e3b4-465e-a803-908656e41600",
   "metadata": {
    "tags": []
   },
   "outputs": [
    {
     "data": {
      "text/plain": [
       "0.0"
      ]
     },
     "execution_count": 5,
     "metadata": {},
     "output_type": "execute_result"
    }
   ],
   "source": [
    "df.loc[0,'t_total_value']"
   ]
  },
  {
   "cell_type": "code",
   "execution_count": 6,
   "id": "f258f655-84e9-4051-af06-cd817466e505",
   "metadata": {
    "tags": []
   },
   "outputs": [
    {
     "data": {
      "text/plain": [
       "(122410, 192)"
      ]
     },
     "execution_count": 6,
     "metadata": {},
     "output_type": "execute_result"
    }
   ],
   "source": [
    "df.shape"
   ]
  },
  {
   "cell_type": "code",
   "execution_count": 7,
   "id": "623b043f-6d86-4af7-af7d-9157d8878578",
   "metadata": {
    "tags": []
   },
   "outputs": [
    {
     "data": {
      "text/plain": [
       "122410"
      ]
     },
     "execution_count": 7,
     "metadata": {},
     "output_type": "execute_result"
    }
   ],
   "source": [
    "len(df)"
   ]
  },
  {
   "cell_type": "code",
   "execution_count": 8,
   "id": "a324fc65-4097-4191-b09f-36e54600bb50",
   "metadata": {
    "tags": []
   },
   "outputs": [
    {
     "data": {
      "text/plain": [
       "time_left                               74.93\n",
       "ct_score                                 11.0\n",
       "t_score                                  15.0\n",
       "map                                  de_train\n",
       "bomb_planted                            False\n",
       "                                       ...   \n",
       "t_grenade_flashbang_value               600.0\n",
       "t_grenade_smokegrenade_value            600.0\n",
       "t_grenade_incendiarygrenade_value         0.0\n",
       "t_grenade_molotovgrenade_value         1200.0\n",
       "t_grenade_decoygrenade_value              0.0\n",
       "Name: 122409, Length: 192, dtype: object"
      ]
     },
     "execution_count": 8,
     "metadata": {},
     "output_type": "execute_result"
    }
   ],
   "source": [
    "df.loc[122409]"
   ]
  },
  {
   "cell_type": "code",
   "execution_count": 12,
   "id": "b0ced8b7-bfc7-4700-8362-b510f7268aa0",
   "metadata": {
    "tags": []
   },
   "outputs": [
    {
     "data": {
      "text/plain": [
       "0.0"
      ]
     },
     "execution_count": 12,
     "metadata": {},
     "output_type": "execute_result"
    }
   ],
   "source": [
    "last_row.loc['t_total_value']+last_row.loc['ct_total_value']"
   ]
  },
  {
   "cell_type": "code",
   "execution_count": 13,
   "id": "e1576522-03d3-4781-a65d-3fcef36e15f2",
   "metadata": {
    "tags": []
   },
   "outputs": [
    {
     "data": {
      "text/plain": [
       "50.0"
      ]
     },
     "execution_count": 13,
     "metadata": {},
     "output_type": "execute_result"
    }
   ],
   "source": [
    "curr_row.loc['t_total_value']+curr_row.loc['ct_total_value']"
   ]
  },
  {
   "cell_type": "code",
   "execution_count": 15,
   "id": "0ddfcf34-0f35-46ed-a71b-86a35b748775",
   "metadata": {
    "tags": []
   },
   "outputs": [
    {
     "data": {
      "text/plain": [
       "time_left                             174.93\n",
       "ct_score                                 6.0\n",
       "t_score                                 10.0\n",
       "map                                  de_nuke\n",
       "bomb_planted                           False\n",
       "                                      ...   \n",
       "t_grenade_flashbang_value                0.0\n",
       "t_grenade_smokegrenade_value             0.0\n",
       "t_grenade_incendiarygrenade_value        0.0\n",
       "t_grenade_molotovgrenade_value           0.0\n",
       "t_grenade_decoygrenade_value             0.0\n",
       "Name: 17591, Length: 192, dtype: object"
      ]
     },
     "execution_count": 15,
     "metadata": {},
     "output_type": "execute_result"
    }
   ],
   "source": [
    "curr_row"
   ]
  },
  {
   "cell_type": "code",
   "execution_count": 18,
   "id": "58859772-2e74-41be-8d06-cd0c89c21426",
   "metadata": {
    "tags": []
   },
   "outputs": [
    {
     "data": {
      "text/plain": [
       "time_left                              36.06\n",
       "ct_score                                 5.0\n",
       "t_score                                 10.0\n",
       "map                                  de_nuke\n",
       "bomb_planted                            True\n",
       "                                      ...   \n",
       "t_grenade_flashbang_value                0.0\n",
       "t_grenade_smokegrenade_value             0.0\n",
       "t_grenade_incendiarygrenade_value        0.0\n",
       "t_grenade_molotovgrenade_value           0.0\n",
       "t_grenade_decoygrenade_value             0.0\n",
       "Name: 17590, Length: 192, dtype: object"
      ]
     },
     "execution_count": 18,
     "metadata": {},
     "output_type": "execute_result"
    }
   ],
   "source": [
    "last_row"
   ]
  },
  {
   "cell_type": "code",
   "execution_count": 17,
   "id": "3afd2c80-7eeb-49fc-ab96-217d8b0ff45a",
   "metadata": {
    "tags": []
   },
   "outputs": [
    {
     "data": {
      "text/html": [
       "<div>\n",
       "<style scoped>\n",
       "    .dataframe tbody tr th:only-of-type {\n",
       "        vertical-align: middle;\n",
       "    }\n",
       "\n",
       "    .dataframe tbody tr th {\n",
       "        vertical-align: top;\n",
       "    }\n",
       "\n",
       "    .dataframe thead th {\n",
       "        text-align: right;\n",
       "    }\n",
       "</style>\n",
       "<table border=\"1\" class=\"dataframe\">\n",
       "  <thead>\n",
       "    <tr style=\"text-align: right;\">\n",
       "      <th></th>\n",
       "      <th>time_left</th>\n",
       "      <th>ct_score</th>\n",
       "      <th>t_score</th>\n",
       "      <th>map</th>\n",
       "      <th>bomb_planted</th>\n",
       "      <th>ct_health</th>\n",
       "      <th>t_health</th>\n",
       "      <th>ct_armor</th>\n",
       "      <th>t_armor</th>\n",
       "      <th>ct_money</th>\n",
       "      <th>...</th>\n",
       "      <th>t_weapon_usps_value</th>\n",
       "      <th>t_weapon_p250_value</th>\n",
       "      <th>t_weapon_p2000_value</th>\n",
       "      <th>t_weapon_tec9_value</th>\n",
       "      <th>t_grenade_hegrenade_value</th>\n",
       "      <th>t_grenade_flashbang_value</th>\n",
       "      <th>t_grenade_smokegrenade_value</th>\n",
       "      <th>t_grenade_incendiarygrenade_value</th>\n",
       "      <th>t_grenade_molotovgrenade_value</th>\n",
       "      <th>t_grenade_decoygrenade_value</th>\n",
       "    </tr>\n",
       "  </thead>\n",
       "  <tbody>\n",
       "    <tr>\n",
       "      <th>17591</th>\n",
       "      <td>174.93</td>\n",
       "      <td>6.0</td>\n",
       "      <td>10.0</td>\n",
       "      <td>de_nuke</td>\n",
       "      <td>False</td>\n",
       "      <td>500.0</td>\n",
       "      <td>500.0</td>\n",
       "      <td>342.0</td>\n",
       "      <td>0.0</td>\n",
       "      <td>19950.0</td>\n",
       "      <td>...</td>\n",
       "      <td>0.0</td>\n",
       "      <td>0.0</td>\n",
       "      <td>0.0</td>\n",
       "      <td>0.0</td>\n",
       "      <td>0.0</td>\n",
       "      <td>0.0</td>\n",
       "      <td>0.0</td>\n",
       "      <td>0.0</td>\n",
       "      <td>0.0</td>\n",
       "      <td>0.0</td>\n",
       "    </tr>\n",
       "    <tr>\n",
       "      <th>17592</th>\n",
       "      <td>114.95</td>\n",
       "      <td>6.0</td>\n",
       "      <td>10.0</td>\n",
       "      <td>de_nuke</td>\n",
       "      <td>False</td>\n",
       "      <td>500.0</td>\n",
       "      <td>500.0</td>\n",
       "      <td>500.0</td>\n",
       "      <td>200.0</td>\n",
       "      <td>450.0</td>\n",
       "      <td>...</td>\n",
       "      <td>0.0</td>\n",
       "      <td>0.0</td>\n",
       "      <td>0.0</td>\n",
       "      <td>0.0</td>\n",
       "      <td>300.0</td>\n",
       "      <td>200.0</td>\n",
       "      <td>300.0</td>\n",
       "      <td>0.0</td>\n",
       "      <td>0.0</td>\n",
       "      <td>0.0</td>\n",
       "    </tr>\n",
       "    <tr>\n",
       "      <th>17593</th>\n",
       "      <td>94.95</td>\n",
       "      <td>6.0</td>\n",
       "      <td>10.0</td>\n",
       "      <td>de_nuke</td>\n",
       "      <td>False</td>\n",
       "      <td>500.0</td>\n",
       "      <td>430.0</td>\n",
       "      <td>500.0</td>\n",
       "      <td>280.0</td>\n",
       "      <td>450.0</td>\n",
       "      <td>...</td>\n",
       "      <td>0.0</td>\n",
       "      <td>0.0</td>\n",
       "      <td>0.0</td>\n",
       "      <td>0.0</td>\n",
       "      <td>0.0</td>\n",
       "      <td>400.0</td>\n",
       "      <td>300.0</td>\n",
       "      <td>0.0</td>\n",
       "      <td>400.0</td>\n",
       "      <td>0.0</td>\n",
       "    </tr>\n",
       "    <tr>\n",
       "      <th>17594</th>\n",
       "      <td>74.95</td>\n",
       "      <td>6.0</td>\n",
       "      <td>10.0</td>\n",
       "      <td>de_nuke</td>\n",
       "      <td>False</td>\n",
       "      <td>500.0</td>\n",
       "      <td>430.0</td>\n",
       "      <td>500.0</td>\n",
       "      <td>280.0</td>\n",
       "      <td>450.0</td>\n",
       "      <td>...</td>\n",
       "      <td>0.0</td>\n",
       "      <td>0.0</td>\n",
       "      <td>0.0</td>\n",
       "      <td>0.0</td>\n",
       "      <td>0.0</td>\n",
       "      <td>400.0</td>\n",
       "      <td>300.0</td>\n",
       "      <td>0.0</td>\n",
       "      <td>400.0</td>\n",
       "      <td>0.0</td>\n",
       "    </tr>\n",
       "    <tr>\n",
       "      <th>17595</th>\n",
       "      <td>54.95</td>\n",
       "      <td>6.0</td>\n",
       "      <td>10.0</td>\n",
       "      <td>de_nuke</td>\n",
       "      <td>False</td>\n",
       "      <td>500.0</td>\n",
       "      <td>430.0</td>\n",
       "      <td>500.0</td>\n",
       "      <td>280.0</td>\n",
       "      <td>450.0</td>\n",
       "      <td>...</td>\n",
       "      <td>0.0</td>\n",
       "      <td>0.0</td>\n",
       "      <td>0.0</td>\n",
       "      <td>0.0</td>\n",
       "      <td>0.0</td>\n",
       "      <td>400.0</td>\n",
       "      <td>300.0</td>\n",
       "      <td>0.0</td>\n",
       "      <td>400.0</td>\n",
       "      <td>0.0</td>\n",
       "    </tr>\n",
       "    <tr>\n",
       "      <th>...</th>\n",
       "      <td>...</td>\n",
       "      <td>...</td>\n",
       "      <td>...</td>\n",
       "      <td>...</td>\n",
       "      <td>...</td>\n",
       "      <td>...</td>\n",
       "      <td>...</td>\n",
       "      <td>...</td>\n",
       "      <td>...</td>\n",
       "      <td>...</td>\n",
       "      <td>...</td>\n",
       "      <td>...</td>\n",
       "      <td>...</td>\n",
       "      <td>...</td>\n",
       "      <td>...</td>\n",
       "      <td>...</td>\n",
       "      <td>...</td>\n",
       "      <td>...</td>\n",
       "      <td>...</td>\n",
       "      <td>...</td>\n",
       "      <td>...</td>\n",
       "    </tr>\n",
       "    <tr>\n",
       "      <th>122405</th>\n",
       "      <td>15.41</td>\n",
       "      <td>11.0</td>\n",
       "      <td>14.0</td>\n",
       "      <td>de_train</td>\n",
       "      <td>True</td>\n",
       "      <td>200.0</td>\n",
       "      <td>242.0</td>\n",
       "      <td>195.0</td>\n",
       "      <td>359.0</td>\n",
       "      <td>100.0</td>\n",
       "      <td>...</td>\n",
       "      <td>0.0</td>\n",
       "      <td>600.0</td>\n",
       "      <td>0.0</td>\n",
       "      <td>0.0</td>\n",
       "      <td>0.0</td>\n",
       "      <td>400.0</td>\n",
       "      <td>300.0</td>\n",
       "      <td>0.0</td>\n",
       "      <td>0.0</td>\n",
       "      <td>0.0</td>\n",
       "    </tr>\n",
       "    <tr>\n",
       "      <th>122406</th>\n",
       "      <td>174.93</td>\n",
       "      <td>11.0</td>\n",
       "      <td>15.0</td>\n",
       "      <td>de_train</td>\n",
       "      <td>False</td>\n",
       "      <td>500.0</td>\n",
       "      <td>500.0</td>\n",
       "      <td>95.0</td>\n",
       "      <td>175.0</td>\n",
       "      <td>11500.0</td>\n",
       "      <td>...</td>\n",
       "      <td>0.0</td>\n",
       "      <td>0.0</td>\n",
       "      <td>0.0</td>\n",
       "      <td>0.0</td>\n",
       "      <td>0.0</td>\n",
       "      <td>400.0</td>\n",
       "      <td>0.0</td>\n",
       "      <td>0.0</td>\n",
       "      <td>0.0</td>\n",
       "      <td>0.0</td>\n",
       "    </tr>\n",
       "    <tr>\n",
       "      <th>122407</th>\n",
       "      <td>114.93</td>\n",
       "      <td>11.0</td>\n",
       "      <td>15.0</td>\n",
       "      <td>de_train</td>\n",
       "      <td>False</td>\n",
       "      <td>500.0</td>\n",
       "      <td>500.0</td>\n",
       "      <td>495.0</td>\n",
       "      <td>475.0</td>\n",
       "      <td>1200.0</td>\n",
       "      <td>...</td>\n",
       "      <td>0.0</td>\n",
       "      <td>0.0</td>\n",
       "      <td>0.0</td>\n",
       "      <td>0.0</td>\n",
       "      <td>0.0</td>\n",
       "      <td>800.0</td>\n",
       "      <td>1500.0</td>\n",
       "      <td>0.0</td>\n",
       "      <td>2000.0</td>\n",
       "      <td>0.0</td>\n",
       "    </tr>\n",
       "    <tr>\n",
       "      <th>122408</th>\n",
       "      <td>94.93</td>\n",
       "      <td>11.0</td>\n",
       "      <td>15.0</td>\n",
       "      <td>de_train</td>\n",
       "      <td>False</td>\n",
       "      <td>500.0</td>\n",
       "      <td>500.0</td>\n",
       "      <td>495.0</td>\n",
       "      <td>475.0</td>\n",
       "      <td>1200.0</td>\n",
       "      <td>...</td>\n",
       "      <td>0.0</td>\n",
       "      <td>0.0</td>\n",
       "      <td>0.0</td>\n",
       "      <td>0.0</td>\n",
       "      <td>0.0</td>\n",
       "      <td>1000.0</td>\n",
       "      <td>900.0</td>\n",
       "      <td>0.0</td>\n",
       "      <td>1600.0</td>\n",
       "      <td>0.0</td>\n",
       "    </tr>\n",
       "    <tr>\n",
       "      <th>122409</th>\n",
       "      <td>74.93</td>\n",
       "      <td>11.0</td>\n",
       "      <td>15.0</td>\n",
       "      <td>de_train</td>\n",
       "      <td>False</td>\n",
       "      <td>375.0</td>\n",
       "      <td>479.0</td>\n",
       "      <td>395.0</td>\n",
       "      <td>466.0</td>\n",
       "      <td>1100.0</td>\n",
       "      <td>...</td>\n",
       "      <td>0.0</td>\n",
       "      <td>0.0</td>\n",
       "      <td>0.0</td>\n",
       "      <td>0.0</td>\n",
       "      <td>0.0</td>\n",
       "      <td>600.0</td>\n",
       "      <td>600.0</td>\n",
       "      <td>0.0</td>\n",
       "      <td>1200.0</td>\n",
       "      <td>0.0</td>\n",
       "    </tr>\n",
       "  </tbody>\n",
       "</table>\n",
       "<p>104819 rows × 192 columns</p>\n",
       "</div>"
      ],
      "text/plain": [
       "        time_left  ct_score  t_score       map  bomb_planted  ct_health  \\\n",
       "17591      174.93       6.0     10.0   de_nuke         False      500.0   \n",
       "17592      114.95       6.0     10.0   de_nuke         False      500.0   \n",
       "17593       94.95       6.0     10.0   de_nuke         False      500.0   \n",
       "17594       74.95       6.0     10.0   de_nuke         False      500.0   \n",
       "17595       54.95       6.0     10.0   de_nuke         False      500.0   \n",
       "...           ...       ...      ...       ...           ...        ...   \n",
       "122405      15.41      11.0     14.0  de_train          True      200.0   \n",
       "122406     174.93      11.0     15.0  de_train         False      500.0   \n",
       "122407     114.93      11.0     15.0  de_train         False      500.0   \n",
       "122408      94.93      11.0     15.0  de_train         False      500.0   \n",
       "122409      74.93      11.0     15.0  de_train         False      375.0   \n",
       "\n",
       "        t_health  ct_armor  t_armor  ct_money  ...  t_weapon_usps_value  \\\n",
       "17591      500.0     342.0      0.0   19950.0  ...                  0.0   \n",
       "17592      500.0     500.0    200.0     450.0  ...                  0.0   \n",
       "17593      430.0     500.0    280.0     450.0  ...                  0.0   \n",
       "17594      430.0     500.0    280.0     450.0  ...                  0.0   \n",
       "17595      430.0     500.0    280.0     450.0  ...                  0.0   \n",
       "...          ...       ...      ...       ...  ...                  ...   \n",
       "122405     242.0     195.0    359.0     100.0  ...                  0.0   \n",
       "122406     500.0      95.0    175.0   11500.0  ...                  0.0   \n",
       "122407     500.0     495.0    475.0    1200.0  ...                  0.0   \n",
       "122408     500.0     495.0    475.0    1200.0  ...                  0.0   \n",
       "122409     479.0     395.0    466.0    1100.0  ...                  0.0   \n",
       "\n",
       "        t_weapon_p250_value  t_weapon_p2000_value  t_weapon_tec9_value  \\\n",
       "17591                   0.0                   0.0                  0.0   \n",
       "17592                   0.0                   0.0                  0.0   \n",
       "17593                   0.0                   0.0                  0.0   \n",
       "17594                   0.0                   0.0                  0.0   \n",
       "17595                   0.0                   0.0                  0.0   \n",
       "...                     ...                   ...                  ...   \n",
       "122405                600.0                   0.0                  0.0   \n",
       "122406                  0.0                   0.0                  0.0   \n",
       "122407                  0.0                   0.0                  0.0   \n",
       "122408                  0.0                   0.0                  0.0   \n",
       "122409                  0.0                   0.0                  0.0   \n",
       "\n",
       "        t_grenade_hegrenade_value  t_grenade_flashbang_value  \\\n",
       "17591                         0.0                        0.0   \n",
       "17592                       300.0                      200.0   \n",
       "17593                         0.0                      400.0   \n",
       "17594                         0.0                      400.0   \n",
       "17595                         0.0                      400.0   \n",
       "...                           ...                        ...   \n",
       "122405                        0.0                      400.0   \n",
       "122406                        0.0                      400.0   \n",
       "122407                        0.0                      800.0   \n",
       "122408                        0.0                     1000.0   \n",
       "122409                        0.0                      600.0   \n",
       "\n",
       "        t_grenade_smokegrenade_value  t_grenade_incendiarygrenade_value  \\\n",
       "17591                            0.0                                0.0   \n",
       "17592                          300.0                                0.0   \n",
       "17593                          300.0                                0.0   \n",
       "17594                          300.0                                0.0   \n",
       "17595                          300.0                                0.0   \n",
       "...                              ...                                ...   \n",
       "122405                         300.0                                0.0   \n",
       "122406                           0.0                                0.0   \n",
       "122407                        1500.0                                0.0   \n",
       "122408                         900.0                                0.0   \n",
       "122409                         600.0                                0.0   \n",
       "\n",
       "        t_grenade_molotovgrenade_value  t_grenade_decoygrenade_value  \n",
       "17591                              0.0                           0.0  \n",
       "17592                              0.0                           0.0  \n",
       "17593                            400.0                           0.0  \n",
       "17594                            400.0                           0.0  \n",
       "17595                            400.0                           0.0  \n",
       "...                                ...                           ...  \n",
       "122405                             0.0                           0.0  \n",
       "122406                             0.0                           0.0  \n",
       "122407                          2000.0                           0.0  \n",
       "122408                          1600.0                           0.0  \n",
       "122409                          1200.0                           0.0  \n",
       "\n",
       "[104819 rows x 192 columns]"
      ]
     },
     "execution_count": 17,
     "metadata": {},
     "output_type": "execute_result"
    }
   ],
   "source": [
    "df.iloc[17591:]"
   ]
  },
  {
   "cell_type": "code",
   "execution_count": 21,
   "id": "2a5c8afb-2506-4701-929b-f1816e61f7c9",
   "metadata": {
    "tags": []
   },
   "outputs": [
    {
     "data": {
      "text/plain": [
       "6.0"
      ]
     },
     "execution_count": 21,
     "metadata": {},
     "output_type": "execute_result"
    }
   ],
   "source": [
    "curr_row['ct_score']"
   ]
  },
  {
   "cell_type": "code",
   "execution_count": 23,
   "id": "5a19caa4-a684-47c3-b277-36df29d5ce0e",
   "metadata": {
    "tags": []
   },
   "outputs": [
    {
     "data": {
      "text/html": [
       "<div>\n",
       "<style scoped>\n",
       "    .dataframe tbody tr th:only-of-type {\n",
       "        vertical-align: middle;\n",
       "    }\n",
       "\n",
       "    .dataframe tbody tr th {\n",
       "        vertical-align: top;\n",
       "    }\n",
       "\n",
       "    .dataframe thead th {\n",
       "        text-align: right;\n",
       "    }\n",
       "</style>\n",
       "<table border=\"1\" class=\"dataframe\">\n",
       "  <thead>\n",
       "    <tr style=\"text-align: right;\">\n",
       "      <th></th>\n",
       "    </tr>\n",
       "  </thead>\n",
       "  <tbody>\n",
       "  </tbody>\n",
       "</table>\n",
       "</div>"
      ],
      "text/plain": [
       "Empty DataFrame\n",
       "Columns: []\n",
       "Index: []"
      ]
     },
     "execution_count": 23,
     "metadata": {},
     "output_type": "execute_result"
    }
   ],
   "source": [
    "highest_value_game"
   ]
  },
  {
   "cell_type": "code",
   "execution_count": 47,
   "id": "6e60e947-5de5-4e95-997a-c7b97c587f33",
   "metadata": {
    "tags": []
   },
   "outputs": [],
   "source": [
    "# Select the row when total value of two team's weapon are the highest in that round as the value of weapon for that round.\n",
    "# This is because the data includes several time checkpoints in one row.\n",
    "new_df = pd.DataFrame()\n",
    "highest_value_game = pd.DataFrame()\n",
    "for i in df.index:\n",
    "    if i == 0:\n",
    "        continue\n",
    "    curr_row = df.loc[i]\n",
    "    last_row = df.loc[i-1]\n",
    "    if last_row['ct_score'] != curr_row['ct_score'] or last_row['t_score'] != curr_row['t_score']:\n",
    "        #this is to say it is another game\n",
    "        new_df = pd.concat([new_df,highest_value_game[['ct_score','map','t_score','t_total_value','ct_total_value','round_winner']]], ignore_index=True)\n",
    "        highest_value_game = pd.DataFrame()\n",
    "    else:\n",
    "        # select the time when total value of two team's weapon are the highest in that round as the value of weapon for that round.\n",
    "        if i > 1:\n",
    "            if last_row.loc['t_total_value']+last_row.loc['ct_total_value'] <= curr_row.loc['t_total_value']+curr_row.loc['ct_total_value']:\n",
    "                highest_value_game = curr_row.to_frame().transpose()\n",
    "            else:\n",
    "                highest_value_game = last_row.to_frame().transpose()\n"
   ]
  },
  {
   "cell_type": "code",
   "execution_count": 48,
   "id": "98b2f263-6642-46bd-81a0-b3f466676d91",
   "metadata": {
    "tags": []
   },
   "outputs": [
    {
     "data": {
      "text/html": [
       "<div>\n",
       "<style scoped>\n",
       "    .dataframe tbody tr th:only-of-type {\n",
       "        vertical-align: middle;\n",
       "    }\n",
       "\n",
       "    .dataframe tbody tr th {\n",
       "        vertical-align: top;\n",
       "    }\n",
       "\n",
       "    .dataframe thead th {\n",
       "        text-align: right;\n",
       "    }\n",
       "</style>\n",
       "<table border=\"1\" class=\"dataframe\">\n",
       "  <thead>\n",
       "    <tr style=\"text-align: right;\">\n",
       "      <th></th>\n",
       "      <th>time_left</th>\n",
       "      <th>ct_score</th>\n",
       "      <th>t_score</th>\n",
       "      <th>map</th>\n",
       "      <th>bomb_planted</th>\n",
       "      <th>ct_health</th>\n",
       "      <th>t_health</th>\n",
       "      <th>ct_armor</th>\n",
       "      <th>t_armor</th>\n",
       "      <th>ct_money</th>\n",
       "      <th>...</th>\n",
       "      <th>t_weapon_usps_value</th>\n",
       "      <th>t_weapon_p250_value</th>\n",
       "      <th>t_weapon_p2000_value</th>\n",
       "      <th>t_weapon_tec9_value</th>\n",
       "      <th>t_grenade_hegrenade_value</th>\n",
       "      <th>t_grenade_flashbang_value</th>\n",
       "      <th>t_grenade_smokegrenade_value</th>\n",
       "      <th>t_grenade_incendiarygrenade_value</th>\n",
       "      <th>t_grenade_molotovgrenade_value</th>\n",
       "      <th>t_grenade_decoygrenade_value</th>\n",
       "    </tr>\n",
       "  </thead>\n",
       "  <tbody>\n",
       "    <tr>\n",
       "      <th>122408</th>\n",
       "      <td>94.93</td>\n",
       "      <td>11.0</td>\n",
       "      <td>15.0</td>\n",
       "      <td>de_train</td>\n",
       "      <td>False</td>\n",
       "      <td>500.0</td>\n",
       "      <td>500.0</td>\n",
       "      <td>495.0</td>\n",
       "      <td>475.0</td>\n",
       "      <td>1200.0</td>\n",
       "      <td>...</td>\n",
       "      <td>0.0</td>\n",
       "      <td>0.0</td>\n",
       "      <td>0.0</td>\n",
       "      <td>0.0</td>\n",
       "      <td>0.0</td>\n",
       "      <td>1000.0</td>\n",
       "      <td>900.0</td>\n",
       "      <td>0.0</td>\n",
       "      <td>1600.0</td>\n",
       "      <td>0.0</td>\n",
       "    </tr>\n",
       "  </tbody>\n",
       "</table>\n",
       "<p>1 rows × 192 columns</p>\n",
       "</div>"
      ],
      "text/plain": [
       "       time_left ct_score t_score       map bomb_planted ct_health t_health  \\\n",
       "122408     94.93     11.0    15.0  de_train        False     500.0    500.0   \n",
       "\n",
       "       ct_armor t_armor ct_money  ... t_weapon_usps_value t_weapon_p250_value  \\\n",
       "122408    495.0   475.0   1200.0  ...                 0.0                 0.0   \n",
       "\n",
       "       t_weapon_p2000_value t_weapon_tec9_value t_grenade_hegrenade_value  \\\n",
       "122408                  0.0                 0.0                       0.0   \n",
       "\n",
       "       t_grenade_flashbang_value t_grenade_smokegrenade_value  \\\n",
       "122408                    1000.0                        900.0   \n",
       "\n",
       "       t_grenade_incendiarygrenade_value t_grenade_molotovgrenade_value  \\\n",
       "122408                               0.0                         1600.0   \n",
       "\n",
       "       t_grenade_decoygrenade_value  \n",
       "122408                          0.0  \n",
       "\n",
       "[1 rows x 192 columns]"
      ]
     },
     "execution_count": 48,
     "metadata": {},
     "output_type": "execute_result"
    }
   ],
   "source": [
    "highest_value_game"
   ]
  },
  {
   "cell_type": "code",
   "execution_count": 49,
   "id": "286229e6-c937-45fb-8958-03e9ff9711e0",
   "metadata": {
    "tags": []
   },
   "outputs": [],
   "source": [
    "# if the weapon column is true, it indicates the total value of t's weapons are more than ct's.\n",
    "new_df['weapon_value'] = new_df['t_total_value'] > new_df['ct_total_value']\n",
    "# Convert the 'round_winner' column to a binary format for easier calculations\n",
    "df['winner_is_ct'] = df['round_winner'] == 'CT'\n",
    "\n",
    "# Group by 'map' and calculate the winning rate for CT\n",
    "winning_rates = df.groupby('map').agg(winning_rate_ct=('winner_is_ct', 'mean'))"
   ]
  },
  {
   "cell_type": "code",
   "execution_count": 50,
   "id": "1ccad390-405d-456d-8c45-103938d32ea1",
   "metadata": {
    "tags": []
   },
   "outputs": [
    {
     "data": {
      "text/html": [
       "<div>\n",
       "<style scoped>\n",
       "    .dataframe tbody tr th:only-of-type {\n",
       "        vertical-align: middle;\n",
       "    }\n",
       "\n",
       "    .dataframe tbody tr th {\n",
       "        vertical-align: top;\n",
       "    }\n",
       "\n",
       "    .dataframe thead th {\n",
       "        text-align: right;\n",
       "    }\n",
       "</style>\n",
       "<table border=\"1\" class=\"dataframe\">\n",
       "  <thead>\n",
       "    <tr style=\"text-align: right;\">\n",
       "      <th></th>\n",
       "      <th>winning_rate_ct</th>\n",
       "    </tr>\n",
       "    <tr>\n",
       "      <th>map</th>\n",
       "      <th></th>\n",
       "    </tr>\n",
       "  </thead>\n",
       "  <tbody>\n",
       "    <tr>\n",
       "      <th>de_cache</th>\n",
       "      <td>0.710345</td>\n",
       "    </tr>\n",
       "    <tr>\n",
       "      <th>de_dust2</th>\n",
       "      <td>0.458725</td>\n",
       "    </tr>\n",
       "    <tr>\n",
       "      <th>de_inferno</th>\n",
       "      <td>0.453992</td>\n",
       "    </tr>\n",
       "    <tr>\n",
       "      <th>de_mirage</th>\n",
       "      <td>0.492248</td>\n",
       "    </tr>\n",
       "    <tr>\n",
       "      <th>de_nuke</th>\n",
       "      <td>0.536873</td>\n",
       "    </tr>\n",
       "    <tr>\n",
       "      <th>de_overpass</th>\n",
       "      <td>0.498970</td>\n",
       "    </tr>\n",
       "    <tr>\n",
       "      <th>de_train</th>\n",
       "      <td>0.541843</td>\n",
       "    </tr>\n",
       "    <tr>\n",
       "      <th>de_vertigo</th>\n",
       "      <td>0.470414</td>\n",
       "    </tr>\n",
       "  </tbody>\n",
       "</table>\n",
       "</div>"
      ],
      "text/plain": [
       "             winning_rate_ct\n",
       "map                         \n",
       "de_cache            0.710345\n",
       "de_dust2            0.458725\n",
       "de_inferno          0.453992\n",
       "de_mirage           0.492248\n",
       "de_nuke             0.536873\n",
       "de_overpass         0.498970\n",
       "de_train            0.541843\n",
       "de_vertigo          0.470414"
      ]
     },
     "execution_count": 50,
     "metadata": {},
     "output_type": "execute_result"
    }
   ],
   "source": [
    "winning_rates"
   ]
  },
  {
   "cell_type": "code",
   "execution_count": 51,
   "id": "6f68b497-cc11-4e07-b7d4-7c033a3e15f4",
   "metadata": {
    "tags": []
   },
   "outputs": [],
   "source": [
    "new_df['weapon_value'] = new_df['weapon_value'].apply(lambda x: \"T Higher\" if x else \"CT Higher\")"
   ]
  },
  {
   "cell_type": "code",
   "execution_count": 52,
   "id": "49cf4a08-ec8e-475b-b4b8-edb78a6bdad9",
   "metadata": {
    "tags": []
   },
   "outputs": [],
   "source": [
    "split_dataframes = {map_name: new_df[new_df['map'] == map_name] for map_name in new_df['map'].unique()}\n",
    "# Now, for each subset, perform the groupby operation\n",
    "grouped_by_map = {}\n",
    "for map_name, subset_df in split_dataframes.items():\n",
    "    grouped = subset_df.groupby('round_winner')['weapon_value'].value_counts().unstack()\n",
    "    grouped_by_map[map_name] = grouped\n"
   ]
  },
  {
   "cell_type": "code",
   "execution_count": 53,
   "id": "24f23e36-5bf4-4d34-88c4-7a1321c9cd23",
   "metadata": {
    "tags": []
   },
   "outputs": [
    {
     "data": {
      "text/plain": [
       "{'de_dust2': weapon_value  CT Higher  T Higher\n",
       " round_winner                     \n",
       " CT                 1142       455\n",
       " T                   401      1393,\n",
       " 'de_mirage': weapon_value  CT Higher  T Higher\n",
       " round_winner                     \n",
       " CT                 1134       393\n",
       " T                   344      1096,\n",
       " 'de_nuke': weapon_value  CT Higher  T Higher\n",
       " round_winner                     \n",
       " CT                 1199       452\n",
       " T                   308       985,\n",
       " 'de_inferno': weapon_value  CT Higher  T Higher\n",
       " round_winner                     \n",
       " CT                 1224       476\n",
       " T                   429      1342,\n",
       " 'de_overpass': weapon_value  CT Higher  T Higher\n",
       " round_winner                     \n",
       " CT                  796       304\n",
       " T                   188       793,\n",
       " 'de_vertigo': weapon_value  CT Higher  T Higher\n",
       " round_winner                     \n",
       " CT                  593       240\n",
       " T                   186       696,\n",
       " 'de_train': weapon_value  CT Higher  T Higher\n",
       " round_winner                     \n",
       " CT                  874       301\n",
       " T                   224       708,\n",
       " 'de_cache': weapon_value  CT Higher  T Higher\n",
       " round_winner                     \n",
       " CT                   16         3\n",
       " T                     4         3}"
      ]
     },
     "execution_count": 53,
     "metadata": {},
     "output_type": "execute_result"
    }
   ],
   "source": [
    "grouped_by_map"
   ]
  },
  {
   "cell_type": "code",
   "execution_count": 54,
   "id": "1cb74dd1-3761-4ff6-b717-d38ad70e9f45",
   "metadata": {
    "tags": []
   },
   "outputs": [
    {
     "data": {
      "text/html": [
       "<div>\n",
       "<style scoped>\n",
       "    .dataframe tbody tr th:only-of-type {\n",
       "        vertical-align: middle;\n",
       "    }\n",
       "\n",
       "    .dataframe tbody tr th {\n",
       "        vertical-align: top;\n",
       "    }\n",
       "\n",
       "    .dataframe thead th {\n",
       "        text-align: right;\n",
       "    }\n",
       "</style>\n",
       "<table border=\"1\" class=\"dataframe\">\n",
       "  <thead>\n",
       "    <tr style=\"text-align: right;\">\n",
       "      <th></th>\n",
       "      <th>ct_score</th>\n",
       "      <th>map</th>\n",
       "      <th>t_score</th>\n",
       "      <th>t_total_value</th>\n",
       "      <th>ct_total_value</th>\n",
       "      <th>round_winner</th>\n",
       "      <th>weapon_value</th>\n",
       "    </tr>\n",
       "  </thead>\n",
       "  <tbody>\n",
       "    <tr>\n",
       "      <th>0</th>\n",
       "      <td>0.0</td>\n",
       "      <td>de_dust2</td>\n",
       "      <td>0.0</td>\n",
       "      <td>600.0</td>\n",
       "      <td>0.0</td>\n",
       "      <td>CT</td>\n",
       "      <td>T Higher</td>\n",
       "    </tr>\n",
       "    <tr>\n",
       "      <th>1</th>\n",
       "      <td>1.0</td>\n",
       "      <td>de_dust2</td>\n",
       "      <td>0.0</td>\n",
       "      <td>0.0</td>\n",
       "      <td>5650.0</td>\n",
       "      <td>CT</td>\n",
       "      <td>CT Higher</td>\n",
       "    </tr>\n",
       "    <tr>\n",
       "      <th>2</th>\n",
       "      <td>2.0</td>\n",
       "      <td>de_dust2</td>\n",
       "      <td>0.0</td>\n",
       "      <td>5700.0</td>\n",
       "      <td>7850.0</td>\n",
       "      <td>T</td>\n",
       "      <td>CT Higher</td>\n",
       "    </tr>\n",
       "    <tr>\n",
       "      <th>3</th>\n",
       "      <td>2.0</td>\n",
       "      <td>de_dust2</td>\n",
       "      <td>1.0</td>\n",
       "      <td>13150.0</td>\n",
       "      <td>4000.0</td>\n",
       "      <td>CT</td>\n",
       "      <td>T Higher</td>\n",
       "    </tr>\n",
       "    <tr>\n",
       "      <th>4</th>\n",
       "      <td>3.0</td>\n",
       "      <td>de_dust2</td>\n",
       "      <td>1.0</td>\n",
       "      <td>6750.0</td>\n",
       "      <td>1300.0</td>\n",
       "      <td>T</td>\n",
       "      <td>T Higher</td>\n",
       "    </tr>\n",
       "    <tr>\n",
       "      <th>...</th>\n",
       "      <td>...</td>\n",
       "      <td>...</td>\n",
       "      <td>...</td>\n",
       "      <td>...</td>\n",
       "      <td>...</td>\n",
       "      <td>...</td>\n",
       "      <td>...</td>\n",
       "    </tr>\n",
       "    <tr>\n",
       "      <th>18697</th>\n",
       "      <td>8.0</td>\n",
       "      <td>de_train</td>\n",
       "      <td>13.0</td>\n",
       "      <td>5900.0</td>\n",
       "      <td>1800.0</td>\n",
       "      <td>CT</td>\n",
       "      <td>T Higher</td>\n",
       "    </tr>\n",
       "    <tr>\n",
       "      <th>18698</th>\n",
       "      <td>9.0</td>\n",
       "      <td>de_train</td>\n",
       "      <td>13.0</td>\n",
       "      <td>15550.0</td>\n",
       "      <td>14850.0</td>\n",
       "      <td>CT</td>\n",
       "      <td>T Higher</td>\n",
       "    </tr>\n",
       "    <tr>\n",
       "      <th>18699</th>\n",
       "      <td>10.0</td>\n",
       "      <td>de_train</td>\n",
       "      <td>13.0</td>\n",
       "      <td>700.0</td>\n",
       "      <td>9150.0</td>\n",
       "      <td>CT</td>\n",
       "      <td>CT Higher</td>\n",
       "    </tr>\n",
       "    <tr>\n",
       "      <th>18700</th>\n",
       "      <td>11.0</td>\n",
       "      <td>de_train</td>\n",
       "      <td>13.0</td>\n",
       "      <td>10650.0</td>\n",
       "      <td>6400.0</td>\n",
       "      <td>T</td>\n",
       "      <td>T Higher</td>\n",
       "    </tr>\n",
       "    <tr>\n",
       "      <th>18701</th>\n",
       "      <td>11.0</td>\n",
       "      <td>de_train</td>\n",
       "      <td>14.0</td>\n",
       "      <td>18050.0</td>\n",
       "      <td>9600.0</td>\n",
       "      <td>T</td>\n",
       "      <td>T Higher</td>\n",
       "    </tr>\n",
       "  </tbody>\n",
       "</table>\n",
       "<p>18702 rows × 7 columns</p>\n",
       "</div>"
      ],
      "text/plain": [
       "      ct_score       map t_score t_total_value ct_total_value round_winner  \\\n",
       "0          0.0  de_dust2     0.0         600.0            0.0           CT   \n",
       "1          1.0  de_dust2     0.0           0.0         5650.0           CT   \n",
       "2          2.0  de_dust2     0.0        5700.0         7850.0            T   \n",
       "3          2.0  de_dust2     1.0       13150.0         4000.0           CT   \n",
       "4          3.0  de_dust2     1.0        6750.0         1300.0            T   \n",
       "...        ...       ...     ...           ...            ...          ...   \n",
       "18697      8.0  de_train    13.0        5900.0         1800.0           CT   \n",
       "18698      9.0  de_train    13.0       15550.0        14850.0           CT   \n",
       "18699     10.0  de_train    13.0         700.0         9150.0           CT   \n",
       "18700     11.0  de_train    13.0       10650.0         6400.0            T   \n",
       "18701     11.0  de_train    14.0       18050.0         9600.0            T   \n",
       "\n",
       "      weapon_value  \n",
       "0         T Higher  \n",
       "1        CT Higher  \n",
       "2        CT Higher  \n",
       "3         T Higher  \n",
       "4         T Higher  \n",
       "...            ...  \n",
       "18697     T Higher  \n",
       "18698     T Higher  \n",
       "18699    CT Higher  \n",
       "18700     T Higher  \n",
       "18701     T Higher  \n",
       "\n",
       "[18702 rows x 7 columns]"
      ]
     },
     "execution_count": 54,
     "metadata": {},
     "output_type": "execute_result"
    }
   ],
   "source": [
    "new_df"
   ]
  },
  {
   "cell_type": "code",
   "execution_count": 55,
   "id": "66c93828-6c47-4039-b46d-85567edaa6da",
   "metadata": {
    "tags": []
   },
   "outputs": [],
   "source": [
    "grouped = new_df.groupby('round_winner')['weapon_value'].value_counts().unstack()"
   ]
  },
  {
   "cell_type": "code",
   "execution_count": 56,
   "id": "cf77c3ca-b95f-463f-b7c5-33a29a4bfe94",
   "metadata": {
    "tags": []
   },
   "outputs": [
    {
     "data": {
      "text/html": [
       "<div>\n",
       "<style scoped>\n",
       "    .dataframe tbody tr th:only-of-type {\n",
       "        vertical-align: middle;\n",
       "    }\n",
       "\n",
       "    .dataframe tbody tr th {\n",
       "        vertical-align: top;\n",
       "    }\n",
       "\n",
       "    .dataframe thead th {\n",
       "        text-align: right;\n",
       "    }\n",
       "</style>\n",
       "<table border=\"1\" class=\"dataframe\">\n",
       "  <thead>\n",
       "    <tr style=\"text-align: right;\">\n",
       "      <th>weapon_value</th>\n",
       "      <th>CT Higher</th>\n",
       "      <th>T Higher</th>\n",
       "    </tr>\n",
       "    <tr>\n",
       "      <th>round_winner</th>\n",
       "      <th></th>\n",
       "      <th></th>\n",
       "    </tr>\n",
       "  </thead>\n",
       "  <tbody>\n",
       "    <tr>\n",
       "      <th>CT</th>\n",
       "      <td>6978</td>\n",
       "      <td>2624</td>\n",
       "    </tr>\n",
       "    <tr>\n",
       "      <th>T</th>\n",
       "      <td>2084</td>\n",
       "      <td>7016</td>\n",
       "    </tr>\n",
       "  </tbody>\n",
       "</table>\n",
       "</div>"
      ],
      "text/plain": [
       "weapon_value  CT Higher  T Higher\n",
       "round_winner                     \n",
       "CT                 6978      2624\n",
       "T                  2084      7016"
      ]
     },
     "execution_count": 56,
     "metadata": {},
     "output_type": "execute_result"
    }
   ],
   "source": [
    "grouped"
   ]
  }
 ],
 "metadata": {
  "kernelspec": {
   "display_name": "classenv",
   "language": "python",
   "name": "classenv"
  },
  "language_info": {
   "codemirror_mode": {
    "name": "ipython",
    "version": 3
   },
   "file_extension": ".py",
   "mimetype": "text/x-python",
   "name": "python",
   "nbconvert_exporter": "python",
   "pygments_lexer": "ipython3",
   "version": "3.11.5"
  }
 },
 "nbformat": 4,
 "nbformat_minor": 5
}
